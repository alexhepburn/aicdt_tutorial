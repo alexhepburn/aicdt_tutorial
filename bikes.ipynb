{
 "cells": [
  {
   "cell_type": "markdown",
   "metadata": {},
   "source": [
    "## Import All the Necessary Modules ##\n",
    "### Auxiliary Imports ###"
   ]
  },
  {
   "cell_type": "code",
   "execution_count": 1,
   "metadata": {},
   "outputs": [],
   "source": [
    "import matplotlib.pyplot as plt\n",
    "\n",
    "import numpy as np\n",
    "\n",
    "from sklearn.ensemble import RandomForestClassifier\n",
    "from sklearn.linear_model import Ridge\n",
    "from sklearn.tree import DecisionTreeRegressor\n",
    "\n",
    "import sklearn.datasets\n",
    "import sklearn.preprocessing\n",
    "import sklearn.tree\n",
    "\n",
    "%matplotlib inline"
   ]
  },
  {
   "cell_type": "markdown",
   "metadata": {},
   "source": [
    "### FAT Forensics Imports ###"
   ]
  },
  {
   "cell_type": "code",
   "execution_count": 2,
   "metadata": {},
   "outputs": [
    {
     "name": "stderr",
     "output_type": "stream",
     "text": [
      "20-Jan-25 23:53:16 fatf.utils.array.tools INFO     Using numpy's numpy.lib.recfunctions.structured_to_unstructured as fatf.utils.array.tools.structured_to_unstructured and fatf.utils.array.tools.structured_to_unstructured_row.\n"
     ]
    }
   ],
   "source": [
    "import fatf.utils.data.datasets as fatf_datasets\n",
    "import fatf.utils.data.augmentation as fatf_augmentation\n",
    "import fatf.utils.kernels as fatf_kernels\n",
    "import fatf.utils.distances as fatf_distances\n",
    "\n",
    "import fatf"
   ]
  },
  {
   "cell_type": "markdown",
   "metadata": {},
   "source": [
    "### Define Bikes dataset location ###"
   ]
  },
  {
   "cell_type": "code",
   "execution_count": 3,
   "metadata": {},
   "outputs": [],
   "source": [
    "bikes_directory = './partial_train_data/station_1_train.csv'"
   ]
  },
  {
   "cell_type": "markdown",
   "metadata": {},
   "source": [
    "### Load bikes dataset from 1 CSV ###"
   ]
  },
  {
   "cell_type": "code",
   "execution_count": 88,
   "metadata": {},
   "outputs": [],
   "source": [
    "numerical_columns = (6, 10, 11, 12, 13, 14, 15, 16, 17, 18)\n",
    "feature_names = ['month', 'weekhour', 'isHoliday', 'windMaxSpeed', 'windDirection', 'temperature', 'relHumidity'\n",
    "                  'airPressure', 'precipitation']\n",
    "\n",
    "bikes_data = np.genfromtxt(\n",
    "    bikes_directory,\n",
    "    delimiter=',',\n",
    "    skip_header=1,\n",
    "    dtype=np.float32,\n",
    "    usecols=numerical_columns,\n",
    "    invalid_raise=True)\n",
    "\n",
    "bikes_target = np.genfromtxt(\n",
    "    bikes_directory,\n",
    "    delimiter=',',\n",
    "    skip_header=1,\n",
    "    dtype=int,\n",
    "    usecols=-1,\n",
    "    invalid_raise=True)\n",
    "\n",
    "nan_rows = np.isnan(bikes_data).any(axis=1)\n",
    "bikes_data = bikes_data[~nan_rows]\n",
    "bikes_target = bikes_target[~nan_rows]"
   ]
  },
  {
   "cell_type": "markdown",
   "metadata": {},
   "source": [
    "### Change target into classification problem ####\n",
    "We're going to bin the target variable into [0.0<=x<2.0, 2.0<=x<8.0, 8.0<=x<13.0, 13.0<=x<25.0]"
   ]
  },
  {
   "cell_type": "code",
   "execution_count": 89,
   "metadata": {},
   "outputs": [
    {
     "data": {
      "text/plain": [
       "<BarContainer object of 3 artists>"
      ]
     },
     "execution_count": 89,
     "metadata": {},
     "output_type": "execute_result"
    },
    {
     "data": {
      "image/png": "[encoded data removed]",
      "text/plain": [
       "<Figure size 432x288 with 1 Axes>"
      ]
     },
     "metadata": {
      "needs_background": "light"
     },
     "output_type": "display_data"
    }
   ],
   "source": [
    "binned_targets = np.digitize(bikes_target, bins=[0.0, 1.0, 4.0, 25.0])\n",
    "_, counts = np.unique(binned_targets, return_counts=True)\n",
    "bins = ['0.0<=x<2.0', '2.0<=x<8.0', '8.0<=x<25.0']\n",
    "plt.bar(bins, counts)"
   ]
  },
  {
   "cell_type": "code",
   "execution_count": 75,
   "metadata": {},
   "outputs": [
    {
     "data": {
      "text/plain": [
       "RandomForestClassifier(bootstrap=True, class_weight=None, criterion='gini',\n",
       "                       max_depth=None, max_features='auto', max_leaf_nodes=None,\n",
       "                       min_impurity_decrease=0.0, min_impurity_split=None,\n",
       "                       min_samples_leaf=1, min_samples_split=2,\n",
       "                       min_weight_fraction_leaf=0.0, n_estimators=100,\n",
       "                       n_jobs=None, oob_score=False, random_state=None,\n",
       "                       verbose=0, warm_start=False)"
      ]
     },
     "execution_count": 75,
     "metadata": {},
     "output_type": "execute_result"
    }
   ],
   "source": [
    "clf_bikes = RandomForestClassifier(n_estimators=100)\n",
    "clf_bikes.fit(bikes_data, binned_targets)"
   ]
  },
  {
   "cell_type": "code",
   "execution_count": 76,
   "metadata": {},
   "outputs": [
    {
     "name": "stdout",
     "output_type": "stream",
     "text": [
      "Training set *accuracy*: 0.123.\n"
     ]
    }
   ],
   "source": [
    "bikes_training_predictions = clf_bikes.predict(bikes_data)\n",
    "\n",
    "bikes_training_accuracy = sklearn.metrics.accuracy_score(\n",
    "    bikes_target, bikes_training_predictions)\n",
    "\n",
    "print('Training set *accuracy*: {:.3}.'.format(bikes_training_accuracy))"
   ]
  },
  {
   "cell_type": "markdown",
   "metadata": {},
   "source": [
    "### Select Data Point for Explanation ###"
   ]
  },
  {
   "cell_type": "code",
   "execution_count": 78,
   "metadata": {},
   "outputs": [],
   "source": [
    "data_point = bikes_data[0]\n",
    "data_point_target = binned_targets[0]"
   ]
  },
  {
   "cell_type": "markdown",
   "metadata": {},
   "source": [
    "### Build Surrogates ###"
   ]
  },
  {
   "cell_type": "code",
   "execution_count": 82,
   "metadata": {},
   "outputs": [],
   "source": [
    "local_samples_number = 1000\n",
    "\n",
    "sampler = fatf_augmentation.NormalSampling(bikes_data)\n",
    "\n",
    "sampled_data = sampler.sample(data_point, samples_number=local_samples_number)\n",
    "\n",
    "sampled_data_prediction = clf_bikes.predict_proba(sampled_data)[:, data_point_target]\n",
    "\n",
    "distance_normal = fatf_distances.euclidean_point_distance(data_point, sampled_data)\n",
    "\n",
    "# Kernel width is set to the default value in the LIME implementation\n",
    "kernel_width = 0.75 * np.sqrt(sampled_data.shape[1])\n",
    "sampled_weights = fatf_kernels.exponential_kernel(distance_normal, width=kernel_width)"
   ]
  },
  {
   "cell_type": "markdown",
   "metadata": {},
   "source": [
    "#### Linear Model (Ridge Regression) ####"
   ]
  },
  {
   "cell_type": "code",
   "execution_count": 80,
   "metadata": {},
   "outputs": [
    {
     "data": {
      "text/plain": [
       "Ridge(alpha=1, copy_X=True, fit_intercept=True, max_iter=None, normalize=False,\n",
       "      random_state=None, solver='auto', tol=0.001)"
      ]
     },
     "execution_count": 80,
     "metadata": {},
     "output_type": "execute_result"
    }
   ],
   "source": [
    "ridge = Ridge(alpha=1, fit_intercept=True)\n",
    "ridge.fit(sampled_data, sampled_data_prediction, sample_weight=sampled_weights)"
   ]
  },
  {
   "cell_type": "code",
   "execution_count": 81,
   "metadata": {},
   "outputs": [
    {
     "data": {
      "text/plain": [
       "array([ 1.27009256e-10, -8.63601103e-10,  1.60099874e-11,  1.13361367e-09,\n",
       "        4.30038685e-10,  2.41849509e-10,  7.64490008e-11,  1.04345817e-09,\n",
       "        1.10394598e-09, -1.11723019e-11])"
      ]
     },
     "execution_count": 81,
     "metadata": {},
     "output_type": "execute_result"
    }
   ],
   "source": [
    "ridge.coef_"
   ]
  },
  {
   "cell_type": "markdown",
   "metadata": {},
   "source": [
    "#### Linear Model with Discretised Features ####"
   ]
  },
  {
   "cell_type": "code",
   "execution_count": 84,
   "metadata": {},
   "outputs": [],
   "source": [
    "# finish code here"
   ]
  },
  {
   "cell_type": "markdown",
   "metadata": {},
   "source": [
    "#### Surrogate Decision Tree ####"
   ]
  },
  {
   "cell_type": "code",
   "execution_count": 85,
   "metadata": {},
   "outputs": [
    {
     "data": {
      "text/plain": [
       "DecisionTreeRegressor(criterion='mse', max_depth=3, max_features=None,\n",
       "                      max_leaf_nodes=None, min_impurity_decrease=0.0,\n",
       "                      min_impurity_split=None, min_samples_leaf=1,\n",
       "                      min_samples_split=2, min_weight_fraction_leaf=0.0,\n",
       "                      presort=False, random_state=None, splitter='best')"
      ]
     },
     "execution_count": 85,
     "metadata": {},
     "output_type": "execute_result"
    }
   ],
   "source": [
    "tree = DecisionTreeRegressor(max_depth=3)\n",
    "tree.fit(sampled_data, sampled_data_prediction, sample_weight=sampled_weights)"
   ]
  },
  {
   "cell_type": "code",
   "execution_count": 90,
   "metadata": {},
   "outputs": [
    {
     "data": {
      "image/png": "[encoded data removed]",
      "text/plain": [
       "<Figure size 1080x720 with 1 Axes>"
      ]
     },
     "metadata": {
      "needs_background": "light"
     },
     "output_type": "display_data"
    }
   ],
   "source": [
    "plt.figure(figsize=(15, 10))\n",
    "tree_text = sklearn.tree.plot_tree(tree, feature_names=feature_names)"
   ]
  },
  {
   "cell_type": "code",
   "execution_count": null,
   "metadata": {},
   "outputs": [],
   "source": []
  }
 ],
 "metadata": {
  "kernelspec": {
   "display_name": "Python 3",
   "language": "python",
   "name": "python3"
  },
  "language_info": {
   "codemirror_mode": {
    "name": "ipython",
    "version": 3
   },
   "file_extension": ".py",
   "mimetype": "text/x-python",
   "name": "python",
   "nbconvert_exporter": "python",
   "pygments_lexer": "ipython3",
   "version": "3.6.8"
  }
 },
 "nbformat": 4,
 "nbformat_minor": 2
}
