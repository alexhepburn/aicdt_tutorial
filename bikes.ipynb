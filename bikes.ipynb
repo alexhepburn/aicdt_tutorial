{
 "cells": [
  {
   "cell_type": "markdown",
   "metadata": {},
   "source": [
    "## Import All the Necessary Modules ##\n",
    "### Auxiliary Imports ###"
   ]
  },
  {
   "cell_type": "code",
   "execution_count": 1,
   "metadata": {},
   "outputs": [],
   "source": [
    "import matplotlib.pyplot as plt\n",
    "\n",
    "import numpy as np\n",
    "\n",
    "from sklearn.ensemble import RandomForestClassifier\n",
    "from sklearn.linear_model import Ridge\n",
    "from sklearn.tree import DecisionTreeRegressor\n",
    "\n",
    "import sklearn.datasets\n",
    "import sklearn.preprocessing\n",
    "import sklearn.tree\n",
    "\n",
    "%matplotlib inline"
   ]
  },
  {
   "cell_type": "markdown",
   "metadata": {},
   "source": [
    "### FAT Forensics Imports ###"
   ]
  },
  {
   "cell_type": "code",
   "execution_count": 2,
   "metadata": {},
   "outputs": [
    {
     "name": "stderr",
     "output_type": "stream",
     "text": [
      "20-Jan-27 13:08:27 fatf.utils.array.tools INFO     Using numpy's numpy.lib.recfunctions.structured_to_unstructured as fatf.utils.array.tools.structured_to_unstructured and fatf.utils.array.tools.structured_to_unstructured_row.\n"
     ]
    }
   ],
   "source": [
    "import fatf.utils.data.datasets as fatf_datasets\n",
    "import fatf.utils.data.augmentation as fatf_augmentation\n",
    "import fatf.utils.kernels as fatf_kernels\n",
    "import fatf.utils.distances as fatf_distances\n",
    "\n",
    "import fatf"
   ]
  },
  {
   "cell_type": "markdown",
   "metadata": {},
   "source": [
    "### Define Bikes dataset location ###"
   ]
  },
  {
   "cell_type": "code",
   "execution_count": 3,
   "metadata": {},
   "outputs": [],
   "source": [
    "bikes_directory = './partial_train_data/station_1_train.csv'"
   ]
  },
  {
   "cell_type": "markdown",
   "metadata": {},
   "source": [
    "### Load bikes dataset from 1 CSV ###"
   ]
  },
  {
   "cell_type": "code",
   "execution_count": 4,
   "metadata": {},
   "outputs": [
    {
     "name": "stdout",
     "output_type": "stream",
     "text": [
      "Number of training data points: 16365\n"
     ]
    }
   ],
   "source": [
    "numerical_columns = (6, 10, 11, 12, 13, 14, 15, 16, 17, 18, 19, 20, 21)\n",
    "feature_names = ['month', 'weekhour', 'isHoliday', 'windMaxSpeed', 'windMeanSpeed', 'windDirection', 'temperature', 'relHumidity'\n",
    "                  'airPressure', 'precipitation', 'bikes_3h_ago', 'full_profile_3h_diff_bikes', 'full_profile_bikes']\n",
    "\n",
    "bikes_data = np.genfromtxt(\n",
    "    bikes_directory,\n",
    "    delimiter=',',\n",
    "    skip_header=1,\n",
    "    dtype=np.float32,\n",
    "    usecols=numerical_columns,\n",
    "    invalid_raise=True)\n",
    "\n",
    "bikes_target = np.genfromtxt(\n",
    "    bikes_directory,\n",
    "    delimiter=',',\n",
    "    skip_header=1,\n",
    "    dtype=int,\n",
    "    usecols=-1,\n",
    "    invalid_raise=True)\n",
    "\n",
    "# Remove any rows with NaNs\n",
    "nan_rows = np.isnan(bikes_data).any(axis=1)\n",
    "bikes_data = bikes_data[~nan_rows]\n",
    "bikes_target = bikes_target[~nan_rows]\n",
    "\n",
    "print('Number of training data points: %d' %bikes_target.shape[0])"
   ]
  },
  {
   "cell_type": "markdown",
   "metadata": {},
   "source": [
    "### Change target into classification problem ####\n",
    "We're going to bin the target variable into [0.0<=x<2.0, 2.0<=x<8.0, 8.0<=x<13.0, 13.0<=x<25.0]"
   ]
  },
  {
   "cell_type": "code",
   "execution_count": 5,
   "metadata": {},
   "outputs": [
    {
     "data": {
      "text/plain": [
       "<BarContainer object of 3 artists>"
      ]
     },
     "execution_count": 5,
     "metadata": {},
     "output_type": "execute_result"
    },
    {
     "data": {
      "image/png": "[encoded data removed]",
      "text/plain": [
       "<Figure size 432x288 with 1 Axes>"
      ]
     },
     "metadata": {
      "needs_background": "light"
     },
     "output_type": "display_data"
    }
   ],
   "source": [
    "binned_targets = np.digitize(bikes_target, bins=[0.0, 2.0, 4.0, 25.0])\n",
    "_, counts = np.unique(binned_targets, return_counts=True)\n",
    "bins = ['0.0<=x<2.0', '2.0<=x<4.0', '4.0<=x<25.0']\n",
    "plt.bar(bins, counts)"
   ]
  },
  {
   "cell_type": "code",
   "execution_count": 6,
   "metadata": {},
   "outputs": [
    {
     "data": {
      "text/plain": [
       "RandomForestClassifier(bootstrap=True, class_weight=None, criterion='gini',\n",
       "                       max_depth=None, max_features='auto', max_leaf_nodes=None,\n",
       "                       min_impurity_decrease=0.0, min_impurity_split=None,\n",
       "                       min_samples_leaf=1, min_samples_split=2,\n",
       "                       min_weight_fraction_leaf=0.0, n_estimators=100,\n",
       "                       n_jobs=None, oob_score=False, random_state=None,\n",
       "                       verbose=0, warm_start=False)"
      ]
     },
     "execution_count": 6,
     "metadata": {},
     "output_type": "execute_result"
    }
   ],
   "source": [
    "clf_bikes = RandomForestClassifier(n_estimators=100)\n",
    "clf_bikes.fit(bikes_data, binned_targets)"
   ]
  },
  {
   "cell_type": "code",
   "execution_count": 7,
   "metadata": {},
   "outputs": [
    {
     "name": "stdout",
     "output_type": "stream",
     "text": [
      "Training set *accuracy*: 0.306.\n"
     ]
    }
   ],
   "source": [
    "bikes_training_predictions = clf_bikes.predict(bikes_data)\n",
    "\n",
    "bikes_training_accuracy = sklearn.metrics.accuracy_score(\n",
    "    bikes_target, bikes_training_predictions)\n",
    "\n",
    "print('Training set *accuracy*: {:.3}.'.format(bikes_training_accuracy))"
   ]
  },
  {
   "cell_type": "markdown",
   "metadata": {},
   "source": [
    "# Using your own model #\n",
    "In order to use your own model, in the next cell you can load in your trained model, the data used and feature names corresponding to the columns in the data. \n",
    "In order to simplify the process of generating explanations, it would be best to use a classifcation model that predicts the number of bikes, given that the target variable is split into bins.\n",
    "\n",
    "The model must be able to output prediction probabilities via a `predict_proba` method.\n",
    "\n",
    "The data must be in a numpy ndarray format in order to use the sklearn local models.\n",
    "\n",
    "Please ensure that the feature names are the same length as the number of columns in the data array."
   ]
  },
  {
   "cell_type": "code",
   "execution_count": null,
   "metadata": {},
   "outputs": [],
   "source": [
    "# Define the model to predict bins\n",
    "clf_bikes = clf_bikes\n",
    "\n",
    "# Define data in the form of numpy array\n",
    "bikes_data = bikes_data\n",
    "\n",
    "# Define list of feature names corresponding to the columns in the data loaded in\n",
    "feature_names = feature_names"
   ]
  },
  {
   "cell_type": "markdown",
   "metadata": {},
   "source": [
    "### Select Data Point for Explanation ###"
   ]
  },
  {
   "cell_type": "code",
   "execution_count": 8,
   "metadata": {},
   "outputs": [],
   "source": [
    "data_point = bikes_data[0]\n",
    "data_point_target = binned_targets[0]"
   ]
  },
  {
   "cell_type": "markdown",
   "metadata": {},
   "source": [
    "### Build Surrogates ###"
   ]
  },
  {
   "cell_type": "code",
   "execution_count": 9,
   "metadata": {},
   "outputs": [],
   "source": [
    "local_samples_number = 1000\n",
    "\n",
    "sampler = fatf_augmentation.NormalSampling(bikes_data)\n",
    "\n",
    "sampled_data = sampler.sample(data_point, samples_number=local_samples_number)\n",
    "\n",
    "sampled_data_prediction = clf_bikes.predict_proba(sampled_data)[:, data_point_target]\n",
    "\n",
    "distance_normal = fatf_distances.euclidean_point_distance(data_point, sampled_data)\n",
    "\n",
    "# Kernel width is set to the default value in the LIME implementation\n",
    "kernel_width = 0.75 * np.sqrt(sampled_data.shape[1])\n",
    "sampled_weights = fatf_kernels.exponential_kernel(distance_normal, width=kernel_width)"
   ]
  },
  {
   "cell_type": "markdown",
   "metadata": {},
   "source": [
    "#### Linear Model (Ridge Regression) ####"
   ]
  },
  {
   "cell_type": "code",
   "execution_count": 10,
   "metadata": {},
   "outputs": [
    {
     "data": {
      "text/plain": [
       "Ridge(alpha=1, copy_X=True, fit_intercept=True, max_iter=None, normalize=False,\n",
       "      random_state=None, solver='auto', tol=0.001)"
      ]
     },
     "execution_count": 10,
     "metadata": {},
     "output_type": "execute_result"
    }
   ],
   "source": [
    "ridge = Ridge(alpha=1, fit_intercept=True)\n",
    "ridge.fit(sampled_data, sampled_data_prediction, sample_weight=sampled_weights)"
   ]
  },
  {
   "cell_type": "code",
   "execution_count": 21,
   "metadata": {},
   "outputs": [
    {
     "name": "stdout",
     "output_type": "stream",
     "text": [
      "month: 3.03e-08\n",
      "weekhour: -1.39e-10\n",
      "isHoliday: 1.08e-10\n",
      "windMaxSpeed: 2.93e-08\n",
      "windMeanSpeed: 1.69e-08\n",
      "windDirection: -2.74e-08\n",
      "temperature: -2.18e-08\n",
      "relHumidityairPressure: -3.58e-09\n",
      "precipitation: -1.76e-08\n",
      "bikes_3h_ago: -5.19e-10\n",
      "full_profile_3h_diff_bikes: -2.47e-08\n",
      "full_profile_bikes: 5.42e-09\n"
     ]
    }
   ],
   "source": [
    "for feature, coef in zip(feature_names, ridge.coef_.tolist()):\n",
    "    print(feature + ': {:.2e}'.format(coef))"
   ]
  },
  {
   "cell_type": "markdown",
   "metadata": {},
   "source": [
    "#### Linear Model with Discretised Features ####"
   ]
  },
  {
   "cell_type": "code",
   "execution_count": 12,
   "metadata": {},
   "outputs": [],
   "source": [
    "# finish code here"
   ]
  },
  {
   "cell_type": "markdown",
   "metadata": {},
   "source": [
    "#### Surrogate Decision Tree ####"
   ]
  },
  {
   "cell_type": "code",
   "execution_count": 13,
   "metadata": {},
   "outputs": [
    {
     "data": {
      "text/plain": [
       "DecisionTreeRegressor(criterion='mse', max_depth=3, max_features=None,\n",
       "                      max_leaf_nodes=None, min_impurity_decrease=0.0,\n",
       "                      min_impurity_split=None, min_samples_leaf=1,\n",
       "                      min_samples_split=2, min_weight_fraction_leaf=0.0,\n",
       "                      presort=False, random_state=None, splitter='best')"
      ]
     },
     "execution_count": 13,
     "metadata": {},
     "output_type": "execute_result"
    }
   ],
   "source": [
    "tree = DecisionTreeRegressor(max_depth=3)\n",
    "tree.fit(sampled_data, sampled_data_prediction, sample_weight=sampled_weights)"
   ]
  },
  {
   "cell_type": "code",
   "execution_count": 14,
   "metadata": {},
   "outputs": [
    {
     "data": {
      "image/png": "[encoded data removed]",
      "text/plain": [
       "<Figure size 1080x720 with 1 Axes>"
      ]
     },
     "metadata": {
      "needs_background": "light"
     },
     "output_type": "display_data"
    }
   ],
   "source": [
    "plt.figure(figsize=(15, 10))\n",
    "tree_text = sklearn.tree.plot_tree(tree) #feature_names=feature_names)"
   ]
  },
  {
   "cell_type": "code",
   "execution_count": null,
   "metadata": {},
   "outputs": [],
   "source": []
  }
 ],
 "metadata": {
  "kernelspec": {
   "display_name": "Python 3",
   "language": "python",
   "name": "python3"
  },
  "language_info": {
   "codemirror_mode": {
    "name": "ipython",
    "version": 3
   },
   "file_extension": ".py",
   "mimetype": "text/x-python",
   "name": "python",
   "nbconvert_exporter": "python",
   "pygments_lexer": "ipython3",
   "version": "3.6.8"
  }
 },
 "nbformat": 4,
 "nbformat_minor": 2
}
